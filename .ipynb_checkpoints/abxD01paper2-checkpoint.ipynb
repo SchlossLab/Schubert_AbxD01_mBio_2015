{
 "metadata": {
  "name": ""
 },
 "nbformat": 3,
 "nbformat_minor": 0,
 "worksheets": [
  {
   "cells": [
    {
     "cell_type": "heading",
     "level": 1,
     "metadata": {},
     "source": [
      "Colonization Resistance by the Gut Microbiome"
     ]
    },
    {
     "cell_type": "markdown",
     "metadata": {},
     "source": [
      "This notebook contains the analysis carried out in the study \"Colonization Resistance by the Gut Microbiome\".  Please refer to the paper for detailed background information. \n",
      "\n",
      "**Premise:** Antibiotic treatments lead to differing communities on Day 0, with varying levels of CR evidenced by the D1 Cdiff CFU"
     ]
    },
    {
     "cell_type": "heading",
     "level": 3,
     "metadata": {},
     "source": [
      "Pre-analysis"
     ]
    },
    {
     "cell_type": "code",
     "collapsed": false,
     "input": [
      "%install_ext https://raw.github.com/kdiverson/ipython-mothurmagic/master/mothurmagic.py"
     ],
     "language": "python",
     "metadata": {},
     "outputs": [
      {
       "output_type": "stream",
       "stream": "stdout",
       "text": [
        "Installed mothurmagic.py. To use it, type:\n",
        "  %load_ext mothurmagic\n"
       ]
      }
     ],
     "prompt_number": 4
    },
    {
     "cell_type": "code",
     "collapsed": false,
     "input": [
      "%load_ext mothurmagic"
     ],
     "language": "python",
     "metadata": {},
     "outputs": [],
     "prompt_number": 11
    },
    {
     "cell_type": "heading",
     "level": 3,
     "metadata": {},
     "source": [
      "mothur commands"
     ]
    },
    {
     "cell_type": "markdown",
     "metadata": {},
     "source": [
      "I followed the protocol outlined here: http://www.mothur.org/wiki/MiSeq_SOP\n",
      "\n",
      "Any deviations from the protocol are noted in comments.  For info on these commands or how to use mothur refer to the mothur wiki.\n",
      "\n",
      "\n",
      "Before starting I also tried to exclude any fastq files with less than 1000 sequences prior to the first step (make.contigs)."
     ]
    },
    {
     "cell_type": "code",
     "collapsed": false,
     "input": [
      "%%mothur\n",
      "make.contigs(file=abxD01.files, processors=14)\n",
      "summary.seqs(fasta=abxD01.trim.contigs.fasta, processors=14)\n",
      "screen.seqs(fasta=abxD01.trim.contigs.fasta, group=abxD01.contigs.groups, summary=abxD01.trim.contigs.summary, maxambig=0, maxlength=275, processors=14)\n",
      "unique.seqs(fasta=abxD01.trim.contigs.good.fasta)\n",
      "count.seqs(name=abxD01.trim.contigs.good.names, group=abxD01.contigs.good.groups)\n",
      "summary.seqs(count=abxD01.trim.contigs.good.count_table)\n",
      "##Make sure have the silva.bacteria.fasta file\n",
      "pcr.seqs(fasta=silva.bacteria.fasta, start=11894, end=25319, keepdots=F, processors=14)\n",
      "system(mv silva.bacteria.pcr.fasta silva.v4.fasta)\n",
      "summary.seqs(fasta=silva.v4.fasta)\n",
      "align.seqs(fasta=abxD01.trim.contigs.good.unique.fasta, reference=silva.v4.fasta, processors=14)\n",
      "summary.seqs(fasta=abxD01.trim.contigs.good.unique.align, count=abxD01.trim.contigs.good.count_table)\n",
      "screen.seqs(fasta=abxD01.trim.contigs.good.unique.align, count=abxD01.trim.contigs.good.count_table, summary=abxD01.trim.contigs.good.unique.summary, start=1968, end=11550, maxhomop=8)\n",
      "summary.seqs(fasta=current, count=current)\n",
      "filter.seqs(fasta=abxD01.trim.contigs.good.unique.good.align, vertical=T, trump=.)\n",
      "unique.seqs(fasta=abxD01.trim.contigs.good.unique.good.filter.fasta, count=abxD01.trim.contigs.good.good.count_table)\n",
      "pre.cluster(fasta=abxD01.trim.contigs.good.unique.good.filter.unique.fasta, count=abxD01.trim.contigs.good.unique.good.filter.count_table, diffs=2)\n",
      "chimera.uchime(fasta=abxD01.trim.contigs.good.unique.good.filter.unique.precluster.fasta, count=abxD01.trim.contigs.good.unique.good.filter.unique.precluster.count_table, dereplicate=t, processors=14)\n",
      "remove.seqs(fasta=abxD01.trim.contigs.good.unique.good.filter.unique.precluster.fasta, accnos=abxD01.trim.contigs.good.unique.good.filter.unique.precluster.uchime.accnos)\n",
      "summary.seqs(fasta=current, count=current)\n",
      "##Make sure have the taxonomy files \n",
      "classify.seqs(fasta=abxD01.trim.contigs.good.unique.good.filter.unique.precluster.pick.fasta, count=abxD01.trim.contigs.good.unique.good.filter.unique.precluster.uchime.pick.count_table, reference=trainset9_032012.pds.fasta, taxonomy=trainset9_032012.pds.tax, cutoff=80)\n",
      "remove.lineage(fasta=abxD01.trim.contigs.good.unique.good.filter.unique.precluster.pick.fasta, count=abxD01.trim.contigs.good.unique.good.filter.unique.precluster.uchime.pick.count_table, taxonomy=abxD01.trim.contigs.good.unique.good.filter.unique.precluster.pick.pds.wang.taxonomy, taxon=Chloroplast-Mitochondria-unknown-Archaea-Eukaryota)\n",
      "##The mock groups were removed and analyzed separately from here for their error rates, see below\n",
      "remove.groups(count=abxD01.trim.contigs.good.unique.good.filter.unique.precluster.uchime.pick.pick.count_table, fasta=abxD01.trim.contigs.good.unique.good.filter.unique.precluster.pick.pick.fasta, taxonomy=abxD01.trim.contigs.good.unique.good.filter.unique.precluster.pick.pds.wang.pick.taxonomy, groups=mock1-mock2-mock3-mock4-mock5-mock6-mock7-mock8)\n",
      "system(cp abxD01.trim.contigs.good.unique.good.filter.unique.precluster.pick.pds.wang.pick.pick.taxonomy abxD01.final.taxonomy)\n",
      "system(cp abxD01.trim.contigs.good.unique.good.filter.unique.precluster.uchime.pick.pick.pick.count_table abxD01.final.count_table)\n",
      "system(cp abxD01.trim.contigs.good.unique.good.filter.unique.precluster.pick.pick.pick.fasta abxD01.final.fasta)\n",
      "system(cp abxD01.good.pick.pick.pick.groups abxD01.final.groups)\n",
      "set.current(fasta=abxD01.final.fasta, count=abxD01.final.count_table, taxonomy=abxD01.final.taxonomy)\n",
      "cluster.split(fasta=abxD01.final.fasta, count=abxD01.final.count_table, taxonomy=abxD01.final.taxonomy, splitmethod=classify, taxlevel=6, cutoff=0.15, processors=14)\n"
     ],
     "language": "python",
     "metadata": {},
     "outputs": [
      {
       "output_type": "stream",
       "stream": "stderr",
       "text": [
        "ERROR: Cell magic `%%mothur` not found.\n"
       ]
      }
     ],
     "prompt_number": 10
    },
    {
     "cell_type": "heading",
     "level": 3,
     "metadata": {},
     "source": [
      "Mock Error Rates"
     ]
    },
    {
     "cell_type": "markdown",
     "metadata": {},
     "source": [
      "Each mock was assessed individually."
     ]
    },
    {
     "cell_type": "code",
     "collapsed": false,
     "input": [
      "%%mothur\n",
      "get.groups(count=abxD01.trim.contigs.good.unique.good.filter.unique.precluster.uchime.pick.pick.count_table, fasta=abxD01.trim.contigs.good.unique.good.filter.unique.precluster.pick.pick.fasta, groups=Mock)\n",
      "##Make sure the HMP fasta is in your folder\n",
      "seq.error(fasta=current, count=current, reference=HMP_MOCK.v4.fasta, aligned=F)\n"
     ],
     "language": "python",
     "metadata": {},
     "outputs": [
      {
       "output_type": "stream",
       "stream": "stderr",
       "text": [
        "ERROR: Cell magic `%%mothur` not found.\n"
       ]
      }
     ],
     "prompt_number": 8
    },
    {
     "cell_type": "heading",
     "level": 3,
     "metadata": {},
     "source": [
      "mothur logfiles"
     ]
    }
   ],
   "metadata": {}
  }
 ]
}